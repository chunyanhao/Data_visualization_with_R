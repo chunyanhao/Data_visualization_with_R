{
 "cells": [
  {
   "cell_type": "code",
   "execution_count": 44,
   "id": "bfbf62f6",
   "metadata": {},
   "outputs": [],
   "source": [
    "import pandas as pd"
   ]
  },
  {
   "cell_type": "code",
   "execution_count": 45,
   "id": "1c6f7d1f",
   "metadata": {},
   "outputs": [],
   "source": [
    "ex_cty = pd.read_excel('exctyall.xls')\n",
    "im_cty = pd.read_excel('imctyall.xls')\n",
    "# ex_st = pd.read_excel('exstall.xls')\n",
    "# im_st = pd.read_excel('imstall.xls')\n",
    "ex_cty_17_20 = pd.read_excel('exctyall_17_20.xls')\n",
    "im_cty_17_20 = pd.read_excel('imctyall_17_20.xls')\n",
    "# ex_st_17_20 = pd.read_excel('exstall_17_20.xls')\n",
    "# im_st_17_20 = pd.read_excel('imstall_17_20.xls')\n",
    "# export_final = pd.read_csv('export.csv')\n",
    "# import_final = pd.read_csv('import.csv')"
   ]
  },
  {
   "cell_type": "code",
   "execution_count": 48,
   "id": "c846d3c4",
   "metadata": {},
   "outputs": [
    {
     "data": {
      "text/html": [
       "<div>\n",
       "<style scoped>\n",
       "    .dataframe tbody tr th:only-of-type {\n",
       "        vertical-align: middle;\n",
       "    }\n",
       "\n",
       "    .dataframe tbody tr th {\n",
       "        vertical-align: top;\n",
       "    }\n",
       "\n",
       "    .dataframe thead th {\n",
       "        text-align: right;\n",
       "    }\n",
       "</style>\n",
       "<table border=\"1\" class=\"dataframe\">\n",
       "  <thead>\n",
       "    <tr style=\"text-align: right;\">\n",
       "      <th>3</th>\n",
       "      <th>statename</th>\n",
       "      <th>rank</th>\n",
       "      <th>countryd</th>\n",
       "      <th>val2015</th>\n",
       "      <th>val2016</th>\n",
       "      <th>val2017</th>\n",
       "      <th>val2018</th>\n",
       "      <th>share15</th>\n",
       "      <th>share16</th>\n",
       "      <th>share17</th>\n",
       "      <th>share18</th>\n",
       "      <th>change</th>\n",
       "    </tr>\n",
       "  </thead>\n",
       "  <tbody>\n",
       "    <tr>\n",
       "      <th>4</th>\n",
       "      <td>Alabama</td>\n",
       "      <td>0</td>\n",
       "      <td>World</td>\n",
       "      <td>19322.19</td>\n",
       "      <td>20471.18</td>\n",
       "      <td>21786.3</td>\n",
       "      <td>21349.24</td>\n",
       "      <td>1.2853</td>\n",
       "      <td>1.4108</td>\n",
       "      <td>1.409</td>\n",
       "      <td>1.2829</td>\n",
       "      <td>-2.01</td>\n",
       "    </tr>\n",
       "  </tbody>\n",
       "</table>\n",
       "</div>"
      ],
      "text/plain": [
       "3 statename rank countryd   val2015   val2016  val2017   val2018 share15  \\\n",
       "4   Alabama    0    World  19322.19  20471.18  21786.3  21349.24  1.2853   \n",
       "\n",
       "3 share16 share17 share18 change  \n",
       "4  1.4108   1.409  1.2829  -2.01  "
      ]
     },
     "execution_count": 48,
     "metadata": {},
     "output_type": "execute_result"
    }
   ],
   "source": [
    "ex_cty = ex_cty.iloc[3: , :]\n",
    "new_header = ex_cty.iloc[0] #grab the first row for the header\n",
    "ex_cty = ex_cty[1:] #take the data less the header row\n",
    "ex_cty.columns = new_header #s\n",
    "ex_cty = ex_cty[(ex_cty['statename'] != 'Unidentified')]\n",
    "\n",
    "ex_cty.head(1)"
   ]
  },
  {
   "cell_type": "code",
   "execution_count": 49,
   "id": "1c411747",
   "metadata": {},
   "outputs": [
    {
     "data": {
      "text/html": [
       "<div>\n",
       "<style scoped>\n",
       "    .dataframe tbody tr th:only-of-type {\n",
       "        vertical-align: middle;\n",
       "    }\n",
       "\n",
       "    .dataframe tbody tr th {\n",
       "        vertical-align: top;\n",
       "    }\n",
       "\n",
       "    .dataframe thead th {\n",
       "        text-align: right;\n",
       "    }\n",
       "</style>\n",
       "<table border=\"1\" class=\"dataframe\">\n",
       "  <thead>\n",
       "    <tr style=\"text-align: right;\">\n",
       "      <th>3</th>\n",
       "      <th>statename</th>\n",
       "      <th>rank</th>\n",
       "      <th>countryd</th>\n",
       "      <th>val2015</th>\n",
       "      <th>val2016</th>\n",
       "      <th>val2017</th>\n",
       "      <th>val2018</th>\n",
       "      <th>share15</th>\n",
       "      <th>share16</th>\n",
       "      <th>share17</th>\n",
       "      <th>share18</th>\n",
       "      <th>change</th>\n",
       "    </tr>\n",
       "  </thead>\n",
       "  <tbody>\n",
       "    <tr>\n",
       "      <th>4</th>\n",
       "      <td>Alabama</td>\n",
       "      <td>0</td>\n",
       "      <td>World</td>\n",
       "      <td>21900.49</td>\n",
       "      <td>22133.6</td>\n",
       "      <td>23628.66</td>\n",
       "      <td>26220.73</td>\n",
       "      <td>0.9739</td>\n",
       "      <td>1.0118</td>\n",
       "      <td>1.0089</td>\n",
       "      <td>1.0312</td>\n",
       "      <td>10.97</td>\n",
       "    </tr>\n",
       "  </tbody>\n",
       "</table>\n",
       "</div>"
      ],
      "text/plain": [
       "3 statename rank countryd   val2015  val2016   val2017   val2018 share15  \\\n",
       "4   Alabama    0    World  21900.49  22133.6  23628.66  26220.73  0.9739   \n",
       "\n",
       "3 share16 share17 share18 change  \n",
       "4  1.0118  1.0089  1.0312  10.97  "
      ]
     },
     "execution_count": 49,
     "metadata": {},
     "output_type": "execute_result"
    }
   ],
   "source": [
    "im_cty = im_cty.iloc[3: , :]\n",
    "new_header = im_cty.iloc[0] #grab the first row for the header\n",
    "im_cty = im_cty[1:] #take the data less the header row\n",
    "im_cty.columns = new_header #s\n",
    "im_cty = im_cty[(im_cty['statename'] != 'Unidentified')]\n",
    "\n",
    "\n",
    "im_cty.head(1)"
   ]
  },
  {
   "cell_type": "code",
   "execution_count": 50,
   "id": "41789c9a",
   "metadata": {},
   "outputs": [
    {
     "data": {
      "text/html": [
       "<div>\n",
       "<style scoped>\n",
       "    .dataframe tbody tr th:only-of-type {\n",
       "        vertical-align: middle;\n",
       "    }\n",
       "\n",
       "    .dataframe tbody tr th {\n",
       "        vertical-align: top;\n",
       "    }\n",
       "\n",
       "    .dataframe thead th {\n",
       "        text-align: right;\n",
       "    }\n",
       "</style>\n",
       "<table border=\"1\" class=\"dataframe\">\n",
       "  <thead>\n",
       "    <tr style=\"text-align: right;\">\n",
       "      <th>3</th>\n",
       "      <th>statename</th>\n",
       "      <th>rank</th>\n",
       "      <th>countryd</th>\n",
       "      <th>val2017</th>\n",
       "      <th>val2018</th>\n",
       "      <th>val2019</th>\n",
       "      <th>val2020</th>\n",
       "      <th>share17</th>\n",
       "      <th>share18</th>\n",
       "      <th>share19</th>\n",
       "      <th>share20</th>\n",
       "      <th>change</th>\n",
       "    </tr>\n",
       "  </thead>\n",
       "  <tbody>\n",
       "    <tr>\n",
       "      <th>4</th>\n",
       "      <td>Alabama</td>\n",
       "      <td>0</td>\n",
       "      <td>World</td>\n",
       "      <td>21797.74</td>\n",
       "      <td>21416.99</td>\n",
       "      <td>20799.79</td>\n",
       "      <td>17131.28</td>\n",
       "      <td>1.4089</td>\n",
       "      <td>1.2858</td>\n",
       "      <td>1.2658</td>\n",
       "      <td>1.1966</td>\n",
       "      <td>-17.64</td>\n",
       "    </tr>\n",
       "  </tbody>\n",
       "</table>\n",
       "</div>"
      ],
      "text/plain": [
       "3 statename rank countryd   val2017   val2018   val2019   val2020 share17  \\\n",
       "4   Alabama    0    World  21797.74  21416.99  20799.79  17131.28  1.4089   \n",
       "\n",
       "3 share18 share19 share20 change  \n",
       "4  1.2858  1.2658  1.1966 -17.64  "
      ]
     },
     "execution_count": 50,
     "metadata": {},
     "output_type": "execute_result"
    }
   ],
   "source": [
    "ex_cty_17_20 = ex_cty_17_20.iloc[3: , :]\n",
    "new_header = ex_cty_17_20.iloc[0] #grab the first row for the header\n",
    "ex_cty_17_20 = ex_cty_17_20[1:] #take the data less the header row\n",
    "ex_cty_17_20.columns = new_header #s\n",
    "ex_cty_17_20 = ex_cty_17_20[(ex_cty_17_20['statename'] != 'Unidentified')]\n",
    "\n",
    "ex_cty_17_20.head(1)"
   ]
  },
  {
   "cell_type": "code",
   "execution_count": 51,
   "id": "cc5241c2",
   "metadata": {},
   "outputs": [
    {
     "data": {
      "text/html": [
       "<div>\n",
       "<style scoped>\n",
       "    .dataframe tbody tr th:only-of-type {\n",
       "        vertical-align: middle;\n",
       "    }\n",
       "\n",
       "    .dataframe tbody tr th {\n",
       "        vertical-align: top;\n",
       "    }\n",
       "\n",
       "    .dataframe thead th {\n",
       "        text-align: right;\n",
       "    }\n",
       "</style>\n",
       "<table border=\"1\" class=\"dataframe\">\n",
       "  <thead>\n",
       "    <tr style=\"text-align: right;\">\n",
       "      <th>3</th>\n",
       "      <th>statename</th>\n",
       "      <th>rank</th>\n",
       "      <th>countryd</th>\n",
       "      <th>val2017</th>\n",
       "      <th>val2018</th>\n",
       "      <th>val2019</th>\n",
       "      <th>val2020</th>\n",
       "      <th>share17</th>\n",
       "      <th>share18</th>\n",
       "      <th>share19</th>\n",
       "      <th>share20</th>\n",
       "      <th>change</th>\n",
       "    </tr>\n",
       "  </thead>\n",
       "  <tbody>\n",
       "    <tr>\n",
       "      <th>4</th>\n",
       "      <td>Alabama</td>\n",
       "      <td>0</td>\n",
       "      <td>World</td>\n",
       "      <td>23594.53</td>\n",
       "      <td>26184.7</td>\n",
       "      <td>28427.94</td>\n",
       "      <td>25512.04</td>\n",
       "      <td>1.0085</td>\n",
       "      <td>1.0318</td>\n",
       "      <td>1.1382</td>\n",
       "      <td>1.0919</td>\n",
       "      <td>-10.26</td>\n",
       "    </tr>\n",
       "  </tbody>\n",
       "</table>\n",
       "</div>"
      ],
      "text/plain": [
       "3 statename rank countryd   val2017  val2018   val2019   val2020 share17  \\\n",
       "4   Alabama    0    World  23594.53  26184.7  28427.94  25512.04  1.0085   \n",
       "\n",
       "3 share18 share19 share20 change  \n",
       "4  1.0318  1.1382  1.0919 -10.26  "
      ]
     },
     "execution_count": 51,
     "metadata": {},
     "output_type": "execute_result"
    }
   ],
   "source": [
    "im_cty_17_20 = im_cty_17_20.iloc[3: , :]\n",
    "new_header = im_cty_17_20.iloc[0] #grab the first row for the header\n",
    "im_cty_17_20 = im_cty_17_20[1:] #take the data less the header row\n",
    "im_cty_17_20.columns = new_header #s\n",
    "im_cty_17_20 = im_cty_17_20[(im_cty_17_20['statename'] != 'Unidentified')]\n",
    "\n",
    "im_cty_17_20.head(1)"
   ]
  },
  {
   "cell_type": "code",
   "execution_count": 52,
   "id": "3fef11aa",
   "metadata": {},
   "outputs": [],
   "source": [
    "temp = pd.merge(left = im_cty, right = im_cty_17_20, how = 'inner', \n",
    "                on = ['statename', 'countryd'])\n",
    "\n",
    "im_temp = temp[['statename', 'rank_x', 'countryd', 'val2015', 'val2016', 'val2017_x',\n",
    "       'val2018_x', 'share15', 'share16', 'share17_x', 'share18_x', 'change_x',\n",
    "        'val2019', 'val2020',  'share19', 'share20']]\n",
    "\n",
    "im_temp.columns = ['statename', 'rank', 'countryd', 'val2015', 'val2016', 'val2017',\n",
    "       'val2018', 'share15', 'share16', 'share17', 'share18', 'change',\n",
    "        'val2019', 'val2020',  'share19', 'share20']\n",
    "\n",
    "im_temp = im_temp[['statename', 'rank', 'countryd', 'val2015', 'val2016', 'val2017',\n",
    "       'val2018', 'val2019', 'val2020', 'share15',  'share16', 'share17', 'share18', \n",
    "                'share19', 'share20','change']]"
   ]
  },
  {
   "cell_type": "code",
   "execution_count": 74,
   "id": "a51aa50b",
   "metadata": {},
   "outputs": [],
   "source": [
    "temp = pd.merge(left = ex_cty, right = ex_cty_17_20, how = 'inner', \n",
    "                on = ['statename', 'countryd'])\n",
    "\n",
    "ex_temp = temp[['statename', 'rank_x', 'countryd', 'val2015', 'val2016', 'val2017_x',\n",
    "       'val2018_x', 'share15', 'share16', 'share17_x', 'share18_x', 'change_x',\n",
    "        'val2019', 'val2020',  'share19', 'share20']]\n",
    "\n",
    "ex_temp.columns = ['statename', 'rank', 'countryd', 'val2015', 'val2016', 'val2017',\n",
    "       'val2018', 'share15', 'share16', 'share17', 'share18', 'change',\n",
    "        'val2019', 'val2020',  'share19', 'share20']\n",
    "\n",
    "ex_temp = ex_temp[['statename', 'rank', 'countryd', 'val2015', 'val2016', 'val2017',\n",
    "       'val2018', 'val2019', 'val2020', 'share15',  'share16', 'share17', 'share18', \n",
    "                'share19', 'share20','change']]"
   ]
  },
  {
   "cell_type": "code",
   "execution_count": 75,
   "id": "9792b320",
   "metadata": {},
   "outputs": [
    {
     "data": {
      "text/html": [
       "<div>\n",
       "<style scoped>\n",
       "    .dataframe tbody tr th:only-of-type {\n",
       "        vertical-align: middle;\n",
       "    }\n",
       "\n",
       "    .dataframe tbody tr th {\n",
       "        vertical-align: top;\n",
       "    }\n",
       "\n",
       "    .dataframe thead th {\n",
       "        text-align: right;\n",
       "    }\n",
       "</style>\n",
       "<table border=\"1\" class=\"dataframe\">\n",
       "  <thead>\n",
       "    <tr style=\"text-align: right;\">\n",
       "      <th></th>\n",
       "      <th>statename</th>\n",
       "      <th>rank</th>\n",
       "      <th>countryd</th>\n",
       "      <th>val2015</th>\n",
       "      <th>val2016</th>\n",
       "      <th>val2017</th>\n",
       "      <th>val2018</th>\n",
       "      <th>val2019</th>\n",
       "      <th>val2020</th>\n",
       "      <th>share15</th>\n",
       "      <th>share16</th>\n",
       "      <th>share17</th>\n",
       "      <th>share18</th>\n",
       "      <th>share19</th>\n",
       "      <th>share20</th>\n",
       "      <th>change</th>\n",
       "    </tr>\n",
       "  </thead>\n",
       "  <tbody>\n",
       "    <tr>\n",
       "      <th>0</th>\n",
       "      <td>Alabama</td>\n",
       "      <td>0</td>\n",
       "      <td>World</td>\n",
       "      <td>19322.19</td>\n",
       "      <td>20471.18</td>\n",
       "      <td>21786.3</td>\n",
       "      <td>21349.24</td>\n",
       "      <td>20799.79</td>\n",
       "      <td>17131.28</td>\n",
       "      <td>1.2853</td>\n",
       "      <td>1.4108</td>\n",
       "      <td>1.409</td>\n",
       "      <td>1.2829</td>\n",
       "      <td>1.2658</td>\n",
       "      <td>1.1966</td>\n",
       "      <td>-2.01</td>\n",
       "    </tr>\n",
       "  </tbody>\n",
       "</table>\n",
       "</div>"
      ],
      "text/plain": [
       "  statename rank countryd   val2015   val2016  val2017   val2018   val2019  \\\n",
       "0   Alabama    0    World  19322.19  20471.18  21786.3  21349.24  20799.79   \n",
       "\n",
       "    val2020 share15 share16 share17 share18 share19 share20 change  \n",
       "0  17131.28  1.2853  1.4108   1.409  1.2829  1.2658  1.1966  -2.01  "
      ]
     },
     "execution_count": 75,
     "metadata": {},
     "output_type": "execute_result"
    }
   ],
   "source": [
    "ex_temp.head(1)"
   ]
  },
  {
   "cell_type": "code",
   "execution_count": 76,
   "id": "63c9e067",
   "metadata": {},
   "outputs": [
    {
     "data": {
      "text/html": [
       "<div>\n",
       "<style scoped>\n",
       "    .dataframe tbody tr th:only-of-type {\n",
       "        vertical-align: middle;\n",
       "    }\n",
       "\n",
       "    .dataframe tbody tr th {\n",
       "        vertical-align: top;\n",
       "    }\n",
       "\n",
       "    .dataframe thead th {\n",
       "        text-align: right;\n",
       "    }\n",
       "</style>\n",
       "<table border=\"1\" class=\"dataframe\">\n",
       "  <thead>\n",
       "    <tr style=\"text-align: right;\">\n",
       "      <th>3</th>\n",
       "      <th>statename</th>\n",
       "      <th>rank_x</th>\n",
       "      <th>countryd</th>\n",
       "      <th>val2015</th>\n",
       "      <th>val2016</th>\n",
       "      <th>val2017_x</th>\n",
       "      <th>val2018_x</th>\n",
       "      <th>share15</th>\n",
       "      <th>share16</th>\n",
       "      <th>share17_x</th>\n",
       "      <th>...</th>\n",
       "      <th>rank_y</th>\n",
       "      <th>val2017_y</th>\n",
       "      <th>val2018_y</th>\n",
       "      <th>val2019</th>\n",
       "      <th>val2020</th>\n",
       "      <th>share17_y</th>\n",
       "      <th>share18_y</th>\n",
       "      <th>share19</th>\n",
       "      <th>share20</th>\n",
       "      <th>change_y</th>\n",
       "    </tr>\n",
       "  </thead>\n",
       "  <tbody>\n",
       "    <tr>\n",
       "      <th>0</th>\n",
       "      <td>Alabama</td>\n",
       "      <td>0</td>\n",
       "      <td>World</td>\n",
       "      <td>19322.19</td>\n",
       "      <td>20471.18</td>\n",
       "      <td>21786.3</td>\n",
       "      <td>21349.24</td>\n",
       "      <td>1.2853</td>\n",
       "      <td>1.4108</td>\n",
       "      <td>1.409</td>\n",
       "      <td>...</td>\n",
       "      <td>0</td>\n",
       "      <td>21797.74</td>\n",
       "      <td>21416.99</td>\n",
       "      <td>20799.79</td>\n",
       "      <td>17131.28</td>\n",
       "      <td>1.4089</td>\n",
       "      <td>1.2858</td>\n",
       "      <td>1.2658</td>\n",
       "      <td>1.1966</td>\n",
       "      <td>-17.64</td>\n",
       "    </tr>\n",
       "  </tbody>\n",
       "</table>\n",
       "<p>1 rows × 22 columns</p>\n",
       "</div>"
      ],
      "text/plain": [
       "3 statename rank_x countryd   val2015   val2016 val2017_x val2018_x share15  \\\n",
       "0   Alabama      0    World  19322.19  20471.18   21786.3  21349.24  1.2853   \n",
       "\n",
       "3 share16 share17_x  ... rank_y val2017_y val2018_y   val2019   val2020  \\\n",
       "0  1.4108     1.409  ...      0  21797.74  21416.99  20799.79  17131.28   \n",
       "\n",
       "3 share17_y share18_y share19 share20 change_y  \n",
       "0    1.4089    1.2858  1.2658  1.1966   -17.64  \n",
       "\n",
       "[1 rows x 22 columns]"
      ]
     },
     "execution_count": 76,
     "metadata": {},
     "output_type": "execute_result"
    }
   ],
   "source": [
    "temp.head(1)"
   ]
  },
  {
   "cell_type": "code",
   "execution_count": 77,
   "id": "d1b14f95",
   "metadata": {},
   "outputs": [],
   "source": [
    "ex_temp.to_csv('export_2022.csv') "
   ]
  },
  {
   "cell_type": "code",
   "execution_count": 78,
   "id": "2716bcd9",
   "metadata": {},
   "outputs": [],
   "source": [
    "im_temp.to_csv('import_2022.csv') "
   ]
  },
  {
   "cell_type": "code",
   "execution_count": 79,
   "id": "5bc282f0",
   "metadata": {},
   "outputs": [
    {
     "data": {
      "text/plain": [
       "'/Users/ChunyanHao/GitHub/Data_visualization_with_R/original_data'"
      ]
     },
     "execution_count": 79,
     "metadata": {},
     "output_type": "execute_result"
    }
   ],
   "source": [
    "pwd"
   ]
  },
  {
   "cell_type": "code",
   "execution_count": null,
   "id": "6e202796",
   "metadata": {},
   "outputs": [],
   "source": []
  }
 ],
 "metadata": {
  "kernelspec": {
   "display_name": "Python 3 (ipykernel)",
   "language": "python",
   "name": "python3"
  },
  "language_info": {
   "codemirror_mode": {
    "name": "ipython",
    "version": 3
   },
   "file_extension": ".py",
   "mimetype": "text/x-python",
   "name": "python",
   "nbconvert_exporter": "python",
   "pygments_lexer": "ipython3",
   "version": "3.7.7"
  }
 },
 "nbformat": 4,
 "nbformat_minor": 5
}
